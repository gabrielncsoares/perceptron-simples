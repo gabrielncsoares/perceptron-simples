{
 "cells": [
  {
   "cell_type": "markdown",
   "metadata": {},
   "source": [
    "## Perceptron"
   ]
  },
  {
   "cell_type": "markdown",
   "metadata": {},
   "source": [
    "Vamos construir um Perceptron simples para introdução do estudo a Redes Neurais, e explicar passo a passo do que está sendo feito"
   ]
  },
  {
   "cell_type": "markdown",
   "metadata": {},
   "source": [
    "Esses são os dados iniciais que vamos utilizar no nosso Perceptron"
   ]
  },
  {
   "cell_type": "code",
   "execution_count": 2,
   "metadata": {},
   "outputs": [],
   "source": [
    "dados = [[0, 0, 1, 1],\n",
    "        [1, 0, 1, 1],\n",
    "        [1, 1, 1, 0],\n",
    "        [1, 1, 0, 0]]"
   ]
  },
  {
   "cell_type": "markdown",
   "metadata": {},
   "source": [
    "Esses vão ser os valores dos pesos de cada variável"
   ]
  },
  {
   "cell_type": "code",
   "execution_count": 3,
   "metadata": {},
   "outputs": [],
   "source": [
    "w = [0, 0, 0, 0]"
   ]
  },
  {
   "cell_type": "markdown",
   "metadata": {},
   "source": [
    "Vamos criar aqui as nossas variáveis"
   ]
  },
  {
   "cell_type": "code",
   "execution_count": 4,
   "metadata": {},
   "outputs": [],
   "source": [
    "X_1 = 0\n",
    "X_2 = 1\n",
    "X_3 = 2\n",
    "Y = 3"
   ]
  },
  {
   "cell_type": "markdown",
   "metadata": {},
   "source": [
    "Vamos criar aqui a taxa de aprendizagem"
   ]
  },
  {
   "cell_type": "code",
   "execution_count": 5,
   "metadata": {},
   "outputs": [],
   "source": [
    "learning_rate = 0.1"
   ]
  },
  {
   "cell_type": "markdown",
   "metadata": {},
   "source": [
    "Vamos criar a função que define o resultado do Perceptron"
   ]
  },
  {
   "cell_type": "code",
   "execution_count": 6,
   "metadata": {},
   "outputs": [],
   "source": [
    "def z(S):\n",
    "  return w[0] + w[1] * dados[S][X_1] + w[2] * dados[S][X_2] + w[3] * dados[S][X_3]"
   ]
  },
  {
   "cell_type": "markdown",
   "metadata": {},
   "source": [
    "Definindo os possíveis resultados da função phi(z)"
   ]
  },
  {
   "cell_type": "code",
   "execution_count": 7,
   "metadata": {},
   "outputs": [],
   "source": [
    "def phi(z):\n",
    "  if z > 0:\n",
    "    return 1\n",
    "  else:\n",
    "    return 0"
   ]
  },
  {
   "cell_type": "markdown",
   "metadata": {},
   "source": [
    "Definindo a função delta_j para ajustes de pesoas"
   ]
  },
  {
   "cell_type": "code",
   "execution_count": null,
   "metadata": {},
   "outputs": [],
   "source": [
    "def delta_j(j):\n",
    "  if j == 0:\n",
    "    return learning_rate * (((dados[0][-1] - phi(z(0))) * 1) + \\\n",
    "          ((dados[1][-1] - phi(z(1))) * 1) + \\\n",
    "          ((dados[2][-1] - phi(z(2))) * 1) + \\\n",
    "          ((dados[3][-1] - phi(z(3))) * 1))\n",
    "  elif j == 1:\n",
    "    return learning_rate*(((dados[0][-1] - phi(z(0))) * dados[0][X_1]) + \\\n",
    "        ((dados[1][-1] - phi(z(1))) * dados[1][X_1]) + \\\n",
    "        ((dados[2][-1] - phi(z(2))) * dados[2][X_1]) + \\\n",
    "        ((dados[3][-1] - phi(z(3))) * dados[3][X_1]))\n",
    "  elif j == 2:\n",
    "    return learning_rate*(((dados[0][-1] - phi(z(0))) * dados[0][X_2]) + \\\n",
    "        ((dados[1][-1] - phi(z(1))) * dados[1][X_2]) + \\\n",
    "        ((dados[2][-1] - phi(z(2))) * dados[2][X_2]) + \\\n",
    "        ((dados[3][-1] - phi(z(3))) * dados[3][X_2]))\n",
    "  elif j == 3:\n",
    "    return learning_rate*(((dados[0][-1] - phi(z(0))) * dados[0][X_3]) + \\\n",
    "        ((dados[1][-1] - phi(z(1))) * dados[1][X_3]) + \\\n",
    "        ((dados[2][-1] - phi(z(2))) * dados[2][X_3]) + \\\n",
    "        ((dados[3][-1] - phi(z(3))) * dados[3][X_3]))  "
   ]
  },
  {
   "cell_type": "code",
   "execution_count": 1,
   "metadata": {},
   "outputs": [
    {
     "name": "stdout",
     "output_type": "stream",
     "text": [
      "---1º Época---\n",
      "w = [0.2, 0.1, 0.0, 0.2]\n"
     ]
    }
   ],
   "source": [
    "def delta_j(j):\n",
    "  if j == 0:\n",
    "    return learning_rate * (((dados[0][-1] - phi(z(0))) * 1) + \\\n",
    "          ((dados[1][-1] - phi(z(1))) * 1) + \\\n",
    "          ((dados[2][-1] - phi(z(2))) * 1) + \\\n",
    "          ((dados[3][-1] - phi(z(3))) * 1))\n",
    "  elif j == 1:\n",
    "    return learning_rate*(((dados[0][-1] - phi(z(0))) * dados[0][X_1]) + \\\n",
    "        ((dados[1][-1] - phi(z(1))) * dados[1][X_1]) + \\\n",
    "        ((dados[2][-1] - phi(z(2))) * dados[2][X_1]) + \\\n",
    "        ((dados[3][-1] - phi(z(3))) * dados[3][X_1]))\n",
    "  elif j == 2:\n",
    "    return learning_rate*(((dados[0][-1] - phi(z(0))) * dados[0][X_2]) + \\\n",
    "        ((dados[1][-1] - phi(z(1))) * dados[1][X_2]) + \\\n",
    "        ((dados[2][-1] - phi(z(2))) * dados[2][X_2]) + \\\n",
    "        ((dados[3][-1] - phi(z(3))) * dados[3][X_2]))\n",
    "  elif j == 3:\n",
    "    return learning_rate*(((dados[0][-1] - phi(z(0))) * dados[0][X_3]) + \\\n",
    "        ((dados[1][-1] - phi(z(1))) * dados[1][X_3]) + \\\n",
    "        ((dados[2][-1] - phi(z(2))) * dados[2][X_3]) + \\\n",
    "        ((dados[3][-1] - phi(z(3))) * dados[3][X_3]))  \n",
    "  \n",
    "aux_0 = w[0] + delta_j(0)\n",
    "aux_1 = w[1] + delta_j(1)\n",
    "aux_2 = w[2] + delta_j(2)\n",
    "aux_3 = w[3] + delta_j(3)\n",
    "\n",
    "w = [aux_0, aux_1, aux_2, aux_3]\n",
    "\n",
    "print(\"w =\", w)"
   ]
  }
 ],
 "metadata": {
  "kernelspec": {
   "display_name": "Python 3",
   "language": "python",
   "name": "python3"
  },
  "language_info": {
   "codemirror_mode": {
    "name": "ipython",
    "version": 3
   },
   "file_extension": ".py",
   "mimetype": "text/x-python",
   "name": "python",
   "nbconvert_exporter": "python",
   "pygments_lexer": "ipython3",
   "version": "3.12.2"
  }
 },
 "nbformat": 4,
 "nbformat_minor": 2
}
